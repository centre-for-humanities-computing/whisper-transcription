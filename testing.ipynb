{
 "cells": [
  {
   "cell_type": "code",
   "execution_count": 5,
   "id": "0b7b5970-2aba-45a8-8dbc-5f631e167a32",
   "metadata": {
    "execution": {
     "iopub.execute_input": "2023-06-16T11:21:33.525655Z",
     "iopub.status.busy": "2023-06-16T11:21:33.524072Z",
     "iopub.status.idle": "2023-06-16T11:21:33.535601Z",
     "shell.execute_reply": "2023-06-16T11:21:33.534762Z",
     "shell.execute_reply.started": "2023-06-16T11:21:33.525580Z"
    },
    "tags": []
   },
   "outputs": [],
   "source": [
    "import os\n",
    "import glob\n",
    "def get_audio_files_in_folder(folder_path):\n",
    "    audio_files = []\n",
    "    audio_extensions = ['mp3', 'wav', 'flac', 'm4a', 'aac', 'mp4']\n",
    "\n",
    "    for audio_extension in audio_extensions:\n",
    "        audio_files.extend(glob.glob(os.path.join(folder_path, f\"*.{audio_extension}\")))\n",
    "        audio_files.extend(glob.glob(os.path.join(folder_path, f\"*.{audio_extension.upper()}\")))\n",
    "        audio_files.extend(glob.glob(os.path.join(folder_path, f\"**/*.{audio_extension}\")))\n",
    "        audio_files.extend(glob.glob(os.path.join(folder_path, f\"**/*.{audio_extension.upper()}\")))\n",
    "        \n",
    "    return audio_files"
   ]
  },
  {
   "cell_type": "code",
   "execution_count": 15,
   "id": "661dcb25-246e-4cda-b96a-73648d60f2ef",
   "metadata": {
    "execution": {
     "iopub.execute_input": "2023-06-16T11:23:04.257477Z",
     "iopub.status.busy": "2023-06-16T11:23:04.256676Z",
     "iopub.status.idle": "2023-06-16T11:23:04.265997Z",
     "shell.execute_reply": "2023-06-16T11:23:04.264555Z",
     "shell.execute_reply.started": "2023-06-16T11:23:04.257419Z"
    },
    "tags": []
   },
   "outputs": [],
   "source": [
    "def check_transcription_exists(file_name, folder_path):\n",
    "    csv_file_name = f\"{os.path.dirname(file_name)}/chc_transcribed_interviews/{os.path.basename(get_base_file_name(file_name))}.csv\"\n",
    "    return os.path.isfile(csv_file_name)\n",
    "def get_base_file_name(file_name):\n",
    "    return os.path.splitext(file_name)[0]"
   ]
  },
  {
   "cell_type": "code",
   "execution_count": 16,
   "id": "2e239430-e766-48c4-909e-e42a52ceca24",
   "metadata": {
    "execution": {
     "iopub.execute_input": "2023-06-16T11:23:04.888854Z",
     "iopub.status.busy": "2023-06-16T11:23:04.888163Z",
     "iopub.status.idle": "2023-06-16T11:23:04.901963Z",
     "shell.execute_reply": "2023-06-16T11:23:04.901006Z",
     "shell.execute_reply.started": "2023-06-16T11:23:04.888800Z"
    },
    "tags": []
   },
   "outputs": [],
   "source": [
    "audio_files_path = './../771349/data/'\n",
    "files = get_audio_files_in_folder(audio_files_path)"
   ]
  },
  {
   "cell_type": "code",
   "execution_count": 19,
   "id": "be710406-01f7-4afd-8029-31701ed420e4",
   "metadata": {
    "execution": {
     "iopub.execute_input": "2023-06-16T11:23:42.126897Z",
     "iopub.status.busy": "2023-06-16T11:23:42.126208Z",
     "iopub.status.idle": "2023-06-16T11:23:42.142088Z",
     "shell.execute_reply": "2023-06-16T11:23:42.141216Z",
     "shell.execute_reply.started": "2023-06-16T11:23:42.126838Z"
    },
    "tags": []
   },
   "outputs": [
    {
     "name": "stderr",
     "output_type": "stream",
     "text": [
      "100%|██████████| 33/33 [00:00<00:00, 11834.13it/s]"
     ]
    },
    {
     "name": "stdout",
     "output_type": "stream",
     "text": [
      "./../771349/data/Interview_P8_to be transcribed.WAV needs to be transcribed.\n"
     ]
    },
    {
     "name": "stderr",
     "output_type": "stream",
     "text": [
      "\n"
     ]
    }
   ],
   "source": [
    "from tqdm import tqdm\n",
    "folder_path = f\"{audio_files_path}/chc_transcribed_interviews/\"\n",
    "for file_name in tqdm(files):\n",
    "    if check_transcription_exists(file_name, folder_path):\n",
    "        print(f\"{file_name} has already been transcribed, skipping.\")\n",
    "        continue\n",
    "    else:\n",
    "        print(f\"{file_name} needs to be transcribed.\")"
   ]
  },
  {
   "cell_type": "code",
   "execution_count": null,
   "id": "047288b9-659d-431c-919c-893c86b624b0",
   "metadata": {},
   "outputs": [],
   "source": []
  }
 ],
 "metadata": {
  "kernelspec": {
   "display_name": "Python 3 ",
   "language": "python",
   "name": "python3"
  },
  "language_info": {
   "codemirror_mode": {
    "name": "ipython",
    "version": 3
   },
   "file_extension": ".py",
   "mimetype": "text/x-python",
   "name": "python",
   "nbconvert_exporter": "python",
   "pygments_lexer": "ipython3",
   "version": "3.10.8"
  }
 },
 "nbformat": 4,
 "nbformat_minor": 5
}
